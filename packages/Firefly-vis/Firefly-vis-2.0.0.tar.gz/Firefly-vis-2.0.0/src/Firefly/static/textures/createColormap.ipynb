{
 "cells": [
  {
   "cell_type": "markdown",
   "metadata": {},
   "source": [
    "# Code to create the texture colormap.png"
   ]
  },
  {
   "cell_type": "code",
   "execution_count": 1,
   "metadata": {},
   "outputs": [],
   "source": [
    "import numpy as np\n",
    "import matplotlib.pyplot as plt\n",
    "from matplotlib import cm"
   ]
  },
  {
   "cell_type": "code",
   "execution_count": 2,
   "metadata": {},
   "outputs": [],
   "source": [
    "def plot_cmap(colormaps, pts, dpi=72,):\n",
    "    ny, nx = pts.shape\n",
    "    ny *= len(colormaps)\n",
    "    f, ax = plt.subplots(len(colormaps),1, figsize=(nx/dpi, ny/dpi), dpi=dpi)\n",
    "    plt.subplots_adjust(wspace=0, hspace=0, bottom=0, top=1, left=0, right=1)\n",
    "    for i,c in enumerate(colormaps):\n",
    "        ax[i].imshow(pts, aspect='equal', cmap=c)\n",
    "        ax[i].get_xaxis().set_visible(False)\n",
    "        ax[i].get_yaxis().set_visible(False)\n",
    "        ax[i].axis('off')\n",
    "\n"
   ]
  },
  {
   "cell_type": "code",
   "execution_count": 4,
   "metadata": {},
   "outputs": [
    {
     "name": "stdout",
     "output_type": "stream",
     "text": [
      "(8, 256)\n"
     ]
    },
    {
     "data": {
      "image/png": "[encoded data removed]",
      "text/plain": [
       "<Figure size 256x256 with 32 Axes>"
      ]
     },
     "metadata": {
      "needs_background": "light"
     },
     "output_type": "display_data"
    }
   ],
   "source": [
    "gradient = np.linspace(0, 1, 256)\n",
    "colormapsList= ['viridis', 'plasma', 'inferno', 'magma',\n",
    "        'Greys', 'Purples', 'Blues', 'Greens', 'Oranges',\n",
    "        'binary', 'gist_yarg', 'gist_gray', 'gray', 'afmhot',\n",
    "        'PiYG', 'PRGn', 'BrBG', 'RdGy', 'coolwarm', 'bwr',\n",
    "        'Pastel1', 'Pastel2', 'Paired', 'Accent', 'Dark2', 'Set1',\n",
    "        'flag', 'prism', 'ocean', 'gist_earth', 'terrain', 'gist_stern']\n",
    "tup = ()\n",
    "ny = 8\n",
    "for x in range(ny):\n",
    "    tup += (gradient,)\n",
    "pts = np.vstack(tup)\n",
    "print(pts.shape)\n",
    "plot_cmap(colormapsList[::-1], pts) #reversed order for consistency with Mahlet's version\n",
    "\n",
    "plt.savefig(\"colormap.png\", bbox_inches='tight',pad_inches=0)\n",
    "plt.show()"
   ]
  },
  {
   "cell_type": "code",
   "execution_count": null,
   "metadata": {},
   "outputs": [],
   "source": []
  }
 ],
 "metadata": {
  "kernelspec": {
   "display_name": "Python 3",
   "language": "python",
   "name": "python3"
  },
  "language_info": {
   "codemirror_mode": {
    "name": "ipython",
    "version": 3
   },
   "file_extension": ".py",
   "mimetype": "text/x-python",
   "name": "python",
   "nbconvert_exporter": "python",
   "pygments_lexer": "ipython3",
   "version": "3.6.8"
  }
 },
 "nbformat": 4,
 "nbformat_minor": 2
}
