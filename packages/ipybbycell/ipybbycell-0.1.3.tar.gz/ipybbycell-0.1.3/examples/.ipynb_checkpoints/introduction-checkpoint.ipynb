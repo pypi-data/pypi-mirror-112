{
 "cells": [
  {
   "cell_type": "code",
   "execution_count": null,
   "metadata": {
    "bxyCellId": "id_1gzh5rt",
    "bxyPosterSlotId": "code"
   },
   "outputs": [],
   "source": []
  },
  {
   "cell_type": "markdown",
   "metadata": {
    "bxyCellId": "id_bxhm3yn"
   },
   "source": [
    "### 步骤标题"
   ]
  },
  {
   "cell_type": "code",
   "execution_count": null,
   "metadata": {
    "bxyCellId": "id_8r44j0o"
   },
   "outputs": [],
   "source": [
    "#platform-desc\n",
    "from ipyaliplayer import Player\n",
    "Player(vid='--替换你的视频id，上传地址 https://www.boyuai.com/elites/admin/public-video', aspect_ratio=4/3)\n"
   ]
  },
  {
   "cell_type": "markdown",
   "metadata": {
    "bxyCellId": "id_k0md4cc"
   },
   "source": [
    "<!--步骤描述 -->\n",
    "\n",
    "#### 知识点\n",
    "- 总结视频中的知识点"
   ]
  },
  {
   "cell_type": "code",
   "execution_count": null,
   "metadata": {
    "bxyCellId": "id_36nwm5q",
    "bxyQuizStep": {
     "options": {
      "choice-1": {
       "posterSlotId": "grade"
      },
      "fill-1": {
       "posterSlotId": "name"
      }
     }
    },
    "quizLog": {
     "content": {
      "choice-1": "1",
      "fill-1": "helsonxiao",
      "rightCount": 2
     },
     "createdAt": "2021-05-20T07:37:10.932Z"
    }
   },
   "outputs": [],
   "source": [
    "#platform-quiz\n"
   ]
  },
  {
   "cell_type": "markdown",
   "metadata": {
    "bxyCellId": "id_kibhxj4"
   },
   "source": [
    "### biubiubiu"
   ]
  },
  {
   "cell_type": "code",
   "execution_count": null,
   "metadata": {
    "bxyCellId": "id_hud0s0r"
   },
   "outputs": [],
   "source": [
    "#platform-desc\n",
    "from ipyaliplayer import Player\n",
    "Player(vid='8eda00d12f394faa9f85f91d3d35a363')"
   ]
  },
  {
   "cell_type": "markdown",
   "metadata": {
    "bxyCellId": "id_9kaczlr"
   },
   "source": [
    "**请用while循环输出3次biu,参考流程图如下：**\n",
    "\n",
    "<img src=\"https://staticcdn.boyuai.com/materials/2020/12/08/r5qLKd3IGrbIY8DoZKg7A.png!png\" width = 300 heigth = 300>"
   ]
  },
  {
   "cell_type": "code",
   "execution_count": null,
   "metadata": {
    "bxyCellId": "id_x9tkuva"
   },
   "outputs": [],
   "source": [
    "//platform-lock-hidden\n",
    "#include <iostream>\n",
    "using namespace std;\n",
    "\n",
    "int main() {"
   ]
  },
  {
   "cell_type": "code",
   "execution_count": null,
   "metadata": {
    "bxyCellId": "id_ds5nekv",
    "bxyPosterSlotId": "code-blank"
   },
   "outputs": [],
   "source": [
    "//platform-blank\n",
    "// 请用while循环输出3次biu：\n",
    "// biu\n",
    "// biu\n",
    "// biu\n",
    "\n",
    "int num = $$$$$$ ;    //有3颗子弹\n",
    "while ( $$$$$$$$$$$$ ) {    //判断是否有子弹\n",
    "    cout << \"biu\" << \"\\n\";\n",
    "    num = num - 1;             \n",
    "} "
   ]
  },
  {
   "cell_type": "code",
   "execution_count": 10,
   "metadata": {
    "bxyCellId": "id_85cljhg"
   },
   "outputs": [
    {
     "name": "stdout",
     "output_type": "stream",
     "text": [
      "biu\n",
      "biu\n",
      "biu\n"
     ]
    }
   ],
   "source": [
    "//platform-blank-answer\n",
    "// 请用while循环输出3次biu：\n",
    "// biu\n",
    "// biu\n",
    "// biu\n",
    "\n",
    "int num = 3;        //有3颗子弹\n",
    "while (num > 0) {   //判断是否有子弹\n",
    "    cout<< \"biu\" << \"\\n\";\n",
    "    num = num - 1;\n",
    "} \n",
    "\n",
    "//!blank-answer:3\n",
    "//!blank-answer:num > 0"
   ]
  },
  {
   "cell_type": "code",
   "execution_count": null,
   "metadata": {
    "bxyCellId": "id_opkli4s"
   },
   "outputs": [],
   "source": [
    "//platform-lock-hidden\n",
    "}"
   ]
  },
  {
   "cell_type": "markdown",
   "metadata": {
    "bxyCellId": "id_g8qrik8"
   },
   "source": [
    "biu\n",
    "biu\n",
    "biu"
   ]
  }
 ],
 "metadata": {
  "bxyId": "id_yr2zinz",
  "bxyPosterId": "test",
  "graffiti": {
   "firstAuthorId": "dev",
   "id": "id_oifly75",
   "language": "EN"
  },
  "kernelspec": {
   "display_name": "Python 3",
   "language": "python",
   "name": "python3"
  },
  "language_info": {
   "codemirror_mode": {
    "name": "ipython",
    "version": 3
   },
   "file_extension": ".py",
   "mimetype": "text/x-python",
   "name": "python",
   "nbconvert_exporter": "python",
   "pygments_lexer": "ipython3",
   "version": "3.9.4"
  }
 },
 "nbformat": 4,
 "nbformat_minor": 2
}
