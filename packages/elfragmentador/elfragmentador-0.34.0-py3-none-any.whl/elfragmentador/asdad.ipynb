{
    "cells": [
        {
            "cell_type": "code",
            "execution_count": 1,
            "source": [
                "import pathlib\n",
                "\n",
                "metadata_files = [str(x) for x in pathlib.Path(\"/home/jspaezp/tmp/asdad/spec_metadata\").glob(\"*.csv\")]\n",
                "spectrast_in = \"/home/jspaezp/tmp/asdad/spectrast_in/ProteomeToolsTP.spectrast.mokapot.psms.tsv\"\n"
            ],
            "outputs": [],
            "metadata": {}
        },
        {
            "cell_type": "code",
            "execution_count": 2,
            "source": [
                "import pathlib\n",
                "import pandas as pd\n",
                "import elfragmentador.constants as CONSTANTS\n",
                "from elfragmentador.evaluate import polyfit, apply_polyfit\n",
                "\n",
                "\n",
                "def _read_spectrast_in(spectrast_in, only_irt=False):\n",
                "    df = pd.read_csv(spectrast_in, sep = \"\\t\", usecols=['SpecId', \"ScanNr\", \"Peptide\"])\n",
                "    \n",
                "    # R.PCYCSSGCGSSCCQSSCCK.S/2 to 'PCYCSSGCGSSCCQSSCCK'\n",
                "    df['StripPeptide'] = [x[2:-4] for x in df['Peptide']]\n",
                "\n",
                "    if only_irt:\n",
                "        df = df[[x in CONSTANTS.IRT_PEPTIDES for x in df['StripPeptide']]].reset_index(drop=True)\n",
                "        df[\"iRT\"] = [CONSTANTS.IRT_PEPTIDES[x]['irt'] for x in df['StripPeptide']]\n",
                "\n",
                "    df[\"File\"] = [pathlib.Path(x).stem for x in df['SpecId']]\n",
                "    return df\n",
                "\n",
                "\n",
                "def calculate_irt_coefficients(spectrast_in, metadata_files):\n",
                "    df = _read_spectrast_in(spectrast_in=spectrast_in, only_irt=True)\n",
                "\n",
                "    coefficients_dict = {}\n",
                "    for tmp_file_name, tmp_df in df.groupby(\"File\"):\n",
                "        curr_metadata_file_name = [x for x in metadata_files if tmp_file_name in x][0]\n",
                "        tmp_metadata_df = pd.read_csv(curr_metadata_file_name)\n",
                "        scan_times = {k: v for k,v in zip(tmp_metadata_df[\"ScanNr\"], tmp_metadata_df[\"RetentionTime\"])}\n",
                "        tmp_df[\"RT\"] = [scan_times[x] for x in tmp_df[\"ScanNr\"]]\n",
                "        fit_coefficients = polyfit(x = tmp_df[\"RT\"], y = tmp_df[\"iRT\"])\n",
                "        coefficients_dict[tmp_file_name] = fit_coefficients\n",
                "\n",
                "    return coefficients_dict\n",
                "\n",
                "\n",
                "def calculate_irt_spectrast_in(spectrast_in, coefficients_dict, metadata_files):\n",
                "    df = _read_spectrast_in(spectrast_in=spectrast_in, only_irt=False)\n",
                "\n",
                "    outs = []\n",
                "\n",
                "    for tmp_file_name, tmp_df in df.groupby(\"File\"):\n",
                "        curr_metadata_file_name = [x for x in metadata_files if tmp_file_name in x][0]\n",
                "        tmp_metadata_df = pd.read_csv(curr_metadata_file_name)\n",
                "        scan_times = {k: v for k,v in zip(tmp_metadata_df[\"ScanNr\"], tmp_metadata_df[\"RetentionTime\"])}\n",
                "        tmp_df[\"RT\"] = [scan_times[x] for x in tmp_df[\"ScanNr\"]]\n",
                "        tmp_df[\"iRT\"] = apply_polyfit(tmp_df['RT'], polynomial=coefficients_dict[tmp_file_name]['polynomial'])\n",
                "        outs.append(tmp_df)\n",
                "\n",
                "    return pd.concat(outs).reset_index(drop=True)\n",
                "\n",
                "\n",
                "coefficients_dict = calculate_irt_coefficients(\n",
                "    spectrast_in=spectrast_in,\n",
                "    metadata_files=metadata_files)\n",
                "\n",
                "import json\n",
                "\n",
                "with open(\"out_json_dicts.json\", \"w\") as f:\n",
                "    json.dump(\n",
                "        coefficients_dict,\n",
                "        fp=f,\n",
                "        indent=2)\n",
                "\n",
                "! head out_json_dicts.json"
            ],
            "outputs": [
                {
                    "output_type": "stream",
                    "name": "stdout",
                    "text": [
                        "{\n",
                        "  \"01812a_GA3-TUM_third_pool_1_01_01-2xIT_2xHCD-1h-R1\": {\n",
                        "    \"polynomial\": [\n",
                        "      3.235674262893933,\n",
                        "      -78.27250749435467\n",
                        "    ],\n",
                        "    \"determination\": 0.9975691609710435\n",
                        "  },\n",
                        "  \"01812a_GA3-TUM_third_pool_1_01_01-3xHCD-1h-R1\": {\n",
                        "    \"polynomial\": [\n"
                    ]
                }
            ],
            "metadata": {}
        },
        {
            "cell_type": "code",
            "execution_count": 10,
            "source": [
                "with open(\"./out_json_dicts.json\", \"r\") as f:\n",
                "    coefficients_dict = json.load(f)\n",
                "\n",
                "out_df = calculate_irt_spectrast_in(spectrast_in=spectrast_in, coefficients_dict=coefficients_dict, metadata_files=metadata_files)\n",
                "out_df = out_df.groupby([\"StripPeptide\"])['iRT'].aggregate([\"mean\", \"min\", \"max\", \"count\"]).reset_index()\n",
                "out_df.to_csv(\"asdad.csv\", index=False)"
            ],
            "outputs": [],
            "metadata": {}
        },
        {
            "cell_type": "code",
            "execution_count": 8,
            "source": [],
            "outputs": [],
            "metadata": {}
        },
        {
            "cell_type": "code",
            "execution_count": null,
            "source": [],
            "outputs": [],
            "metadata": {}
        }
    ],
    "metadata": {
        "orig_nbformat": 4,
        "language_info": {
            "name": "python"
        }
    },
    "nbformat": 4,
    "nbformat_minor": 2
}