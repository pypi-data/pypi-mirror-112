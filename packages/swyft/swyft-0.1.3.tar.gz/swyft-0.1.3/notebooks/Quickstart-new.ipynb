{
 "cells": [
  {
   "cell_type": "code",
   "execution_count": 1,
   "metadata": {},
   "outputs": [],
   "source": [
    "# DON'T FORGET TO ACTIVATE THE GPU when on google colab (Edit > Notebook settings)\n",
    "\n",
    "from os import environ\n",
    "GOOGLE_COLAB = True if \"COLAB_GPU\" in environ else False\n",
    "if GOOGLE_COLAB:\n",
    "    !pip install git+https://github.com/undark-lab/swyft.git"
   ]
  },
  {
   "cell_type": "code",
   "execution_count": 2,
   "metadata": {},
   "outputs": [],
   "source": [
    "import logging\n",
    "logging.basicConfig(format='%(levelname)s:%(message)s', level=logging.INFO)"
   ]
  },
  {
   "cell_type": "code",
   "execution_count": 3,
   "metadata": {},
   "outputs": [],
   "source": [
    "import numpy as np\n",
    "import pylab as plt\n",
    "import swyft\n",
    "import torch\n",
    "from scipy import stats\n",
    "\n",
    "np.random.seed(27);\n",
    "torch.manual_seed(27);"
   ]
  },
  {
   "cell_type": "code",
   "execution_count": 4,
   "metadata": {},
   "outputs": [
    {
     "name": "stdout",
     "output_type": "stream",
     "text": [
      "  Cursed by the dimensionality of your nuisance space?\n",
      "  Wasted by Markov chains that reject your simulations?\n",
      "     Exhausted from messing with simplistic models,\n",
      "because your inference algorithm cannot handle the truth?\n",
      "         Try swyft for some pain relief.\n"
     ]
    }
   ],
   "source": [
    "swyft.zen()"
   ]
  },
  {
   "cell_type": "code",
   "execution_count": 5,
   "metadata": {},
   "outputs": [],
   "source": [
    "DEVICE = 'cuda'"
   ]
  },
  {
   "cell_type": "code",
   "execution_count": 14,
   "metadata": {},
   "outputs": [],
   "source": [
    "def model(v):\n",
    "    a = v[0]\n",
    "    b = v[1]\n",
    "    r = (a**2+b**2)**0.5\n",
    "    x=np.array([r])\n",
    "    return dict(mu=x)\n",
    "\n",
    "def noise(obs, v, noise = 0.001):\n",
    "    x = obs['mu']\n",
    "    n = np.random.randn(*x.shape)*noise\n",
    "    return dict(x=x + n)"
   ]
  },
  {
   "cell_type": "code",
   "execution_count": 15,
   "metadata": {},
   "outputs": [
    {
     "data": {
      "text/plain": [
       "{'mu': array([0.31622777])}"
      ]
     },
     "execution_count": 15,
     "metadata": {},
     "output_type": "execute_result"
    }
   ],
   "source": [
    "v0 = np.array([0.3, 0.1])\n",
    "obs0 = model(v0)\n",
    "obs0"
   ]
  },
  {
   "cell_type": "code",
   "execution_count": 16,
   "metadata": {},
   "outputs": [],
   "source": [
    "simulator = swyft.Simulator(model, sim_shapes = {\"mu\": (1,)})\n",
    "prior = swyft.Prior.from_uv(lambda u: u*2-1, 2)"
   ]
  },
  {
   "cell_type": "code",
   "execution_count": 17,
   "metadata": {},
   "outputs": [
    {
     "name": "stdout",
     "output_type": "stream",
     "text": [
      "Creating new store.\n"
     ]
    }
   ],
   "source": [
    "store = swyft.MemoryStore(['z0', 'z1'], simulator = simulator)\n",
    "#store = swyft.DirectoryStore(['z0', 'z1'], simulator = simulator, path = 'store')"
   ]
  },
  {
   "cell_type": "code",
   "execution_count": 21,
   "metadata": {},
   "outputs": [
    {
     "name": "stderr",
     "output_type": "stream",
     "text": [
      "100%|██████████| 55/55 [00:01<00:00, 54.45it/s]\n",
      "100%|██████████| 6/6 [00:00<00:00, 73.98it/s]\n",
      " 11%|█         | 6/55 [00:00<00:00, 57.98it/s]"
     ]
    },
    {
     "name": "stdout",
     "output_type": "stream",
     "text": [
      "Training: lr=0.01, Epoch=1, VL=0.7448\r"
     ]
    },
    {
     "name": "stderr",
     "output_type": "stream",
     "text": [
      "100%|██████████| 55/55 [00:00<00:00, 56.60it/s]\n",
      "100%|██████████| 6/6 [00:00<00:00, 71.24it/s]\n",
      " 11%|█         | 6/55 [00:00<00:00, 57.26it/s]"
     ]
    },
    {
     "name": "stdout",
     "output_type": "stream",
     "text": [
      "Training: lr=0.01, Epoch=2, VL=0.8255\n"
     ]
    },
    {
     "name": "stderr",
     "output_type": "stream",
     "text": [
      "100%|██████████| 55/55 [00:00<00:00, 55.64it/s]\n",
      "100%|██████████| 6/6 [00:00<00:00, 73.11it/s]\n",
      " 11%|█         | 6/55 [00:00<00:00, 57.36it/s]"
     ]
    },
    {
     "name": "stdout",
     "output_type": "stream",
     "text": [
      "Training: lr=0.001, Epoch=1, VL=0.4663\r"
     ]
    },
    {
     "name": "stderr",
     "output_type": "stream",
     "text": [
      "100%|██████████| 55/55 [00:00<00:00, 55.91it/s]\n",
      "100%|██████████| 6/6 [00:00<00:00, 73.94it/s]\n",
      " 11%|█         | 6/55 [00:00<00:00, 57.20it/s]"
     ]
    },
    {
     "name": "stdout",
     "output_type": "stream",
     "text": [
      "Training: lr=0.001, Epoch=2, VL=0.4066\r"
     ]
    },
    {
     "name": "stderr",
     "output_type": "stream",
     "text": [
      "100%|██████████| 55/55 [00:00<00:00, 55.71it/s]\n",
      "100%|██████████| 6/6 [00:00<00:00, 72.22it/s]\n",
      " 11%|█         | 6/55 [00:00<00:00, 58.38it/s]"
     ]
    },
    {
     "name": "stdout",
     "output_type": "stream",
     "text": [
      "Training: lr=0.001, Epoch=3, VL=0.3736\r"
     ]
    },
    {
     "name": "stderr",
     "output_type": "stream",
     "text": [
      "100%|██████████| 55/55 [00:00<00:00, 56.24it/s]\n",
      "100%|██████████| 6/6 [00:00<00:00, 72.48it/s]\n",
      " 11%|█         | 6/55 [00:00<00:00, 56.65it/s]"
     ]
    },
    {
     "name": "stdout",
     "output_type": "stream",
     "text": [
      "Training: lr=0.001, Epoch=4, VL=0.3553\r"
     ]
    },
    {
     "name": "stderr",
     "output_type": "stream",
     "text": [
      "100%|██████████| 55/55 [00:00<00:00, 55.76it/s]\n",
      "100%|██████████| 6/6 [00:00<00:00, 75.64it/s]\n",
      " 11%|█         | 6/55 [00:00<00:00, 58.75it/s]"
     ]
    },
    {
     "name": "stdout",
     "output_type": "stream",
     "text": [
      "Training: lr=0.001, Epoch=5, VL=0.3554\n"
     ]
    },
    {
     "name": "stderr",
     "output_type": "stream",
     "text": [
      "100%|██████████| 55/55 [00:00<00:00, 55.72it/s]\n",
      "100%|██████████| 6/6 [00:00<00:00, 72.75it/s]\n",
      " 11%|█         | 6/55 [00:00<00:00, 54.57it/s]"
     ]
    },
    {
     "name": "stdout",
     "output_type": "stream",
     "text": [
      "Training: lr=0.0001, Epoch=1, VL=0.3266\r"
     ]
    },
    {
     "name": "stderr",
     "output_type": "stream",
     "text": [
      "100%|██████████| 55/55 [00:00<00:00, 55.64it/s]\n",
      "100%|██████████| 6/6 [00:00<00:00, 75.73it/s]\n",
      " 11%|█         | 6/55 [00:00<00:00, 56.68it/s]"
     ]
    },
    {
     "name": "stdout",
     "output_type": "stream",
     "text": [
      "Training: lr=0.0001, Epoch=2, VL=0.3169\r"
     ]
    },
    {
     "name": "stderr",
     "output_type": "stream",
     "text": [
      "100%|██████████| 55/55 [00:00<00:00, 56.30it/s]\n",
      "100%|██████████| 6/6 [00:00<00:00, 72.42it/s]\n",
      " 11%|█         | 6/55 [00:00<00:00, 57.06it/s]"
     ]
    },
    {
     "name": "stdout",
     "output_type": "stream",
     "text": [
      "Training: lr=0.0001, Epoch=3, VL=0.3144\r"
     ]
    },
    {
     "name": "stderr",
     "output_type": "stream",
     "text": [
      "100%|██████████| 55/55 [00:00<00:00, 56.09it/s]\n",
      "100%|██████████| 6/6 [00:00<00:00, 75.22it/s]\n",
      " 11%|█         | 6/55 [00:00<00:00, 57.19it/s]"
     ]
    },
    {
     "name": "stdout",
     "output_type": "stream",
     "text": [
      "Training: lr=0.0001, Epoch=4, VL=0.3119\r"
     ]
    },
    {
     "name": "stderr",
     "output_type": "stream",
     "text": [
      "100%|██████████| 55/55 [00:00<00:00, 56.12it/s]\n",
      "100%|██████████| 6/6 [00:00<00:00, 72.29it/s]\n",
      " 11%|█         | 6/55 [00:00<00:00, 51.81it/s]"
     ]
    },
    {
     "name": "stdout",
     "output_type": "stream",
     "text": [
      "Training: lr=0.0001, Epoch=5, VL=0.3062\r"
     ]
    },
    {
     "name": "stderr",
     "output_type": "stream",
     "text": [
      "100%|██████████| 55/55 [00:00<00:00, 55.25it/s]\n",
      "100%|██████████| 6/6 [00:00<00:00, 76.00it/s]\n",
      " 11%|█         | 6/55 [00:00<00:00, 57.94it/s]"
     ]
    },
    {
     "name": "stdout",
     "output_type": "stream",
     "text": [
      "Training: lr=0.0001, Epoch=6, VL=0.3022\r"
     ]
    },
    {
     "name": "stderr",
     "output_type": "stream",
     "text": [
      "100%|██████████| 55/55 [00:00<00:00, 55.87it/s]\n",
      "100%|██████████| 6/6 [00:00<00:00, 73.80it/s]\n",
      " 11%|█         | 6/55 [00:00<00:00, 57.21it/s]"
     ]
    },
    {
     "name": "stdout",
     "output_type": "stream",
     "text": [
      "Training: lr=0.0001, Epoch=7, VL=0.2974\r"
     ]
    },
    {
     "name": "stderr",
     "output_type": "stream",
     "text": [
      "100%|██████████| 55/55 [00:00<00:00, 56.61it/s]\n",
      "100%|██████████| 6/6 [00:00<00:00, 76.84it/s]\n",
      " 11%|█         | 6/55 [00:00<00:00, 55.29it/s]"
     ]
    },
    {
     "name": "stdout",
     "output_type": "stream",
     "text": [
      "Training: lr=0.0001, Epoch=8, VL=0.2923\r"
     ]
    },
    {
     "name": "stderr",
     "output_type": "stream",
     "text": [
      "100%|██████████| 55/55 [00:00<00:00, 55.62it/s]\n",
      "100%|██████████| 6/6 [00:00<00:00, 76.21it/s]\n",
      " 11%|█         | 6/55 [00:00<00:00, 57.44it/s]"
     ]
    },
    {
     "name": "stdout",
     "output_type": "stream",
     "text": [
      "Training: lr=0.0001, Epoch=9, VL=0.2897\r"
     ]
    },
    {
     "name": "stderr",
     "output_type": "stream",
     "text": [
      "100%|██████████| 55/55 [00:00<00:00, 56.22it/s]\n",
      "100%|██████████| 6/6 [00:00<00:00, 77.63it/s]\n",
      " 11%|█         | 6/55 [00:00<00:00, 58.19it/s]"
     ]
    },
    {
     "name": "stdout",
     "output_type": "stream",
     "text": [
      "Training: lr=0.0001, Epoch=10, VL=0.2859\r"
     ]
    },
    {
     "name": "stderr",
     "output_type": "stream",
     "text": [
      "100%|██████████| 55/55 [00:00<00:00, 55.91it/s]\n",
      "100%|██████████| 6/6 [00:00<00:00, 69.07it/s]\n",
      " 11%|█         | 6/55 [00:00<00:00, 55.14it/s]"
     ]
    },
    {
     "name": "stdout",
     "output_type": "stream",
     "text": [
      "Training: lr=0.0001, Epoch=11, VL=0.2815\r"
     ]
    },
    {
     "name": "stderr",
     "output_type": "stream",
     "text": [
      "100%|██████████| 55/55 [00:00<00:00, 55.83it/s]\n",
      "100%|██████████| 6/6 [00:00<00:00, 76.13it/s]\n",
      " 11%|█         | 6/55 [00:00<00:00, 58.12it/s]"
     ]
    },
    {
     "name": "stdout",
     "output_type": "stream",
     "text": [
      "Training: lr=0.0001, Epoch=12, VL=0.2777\r"
     ]
    },
    {
     "name": "stderr",
     "output_type": "stream",
     "text": [
      "100%|██████████| 55/55 [00:00<00:00, 55.84it/s]\n",
      "100%|██████████| 6/6 [00:00<00:00, 73.43it/s]\n"
     ]
    },
    {
     "name": "stdout",
     "output_type": "stream",
     "text": [
      "Training: lr=0.0001, Epoch=13, VL=0.2794\n",
      "Bounds: Truncating...\n",
      "Bounds: ...done. New volue is V=0.1735\n",
      "Store: Adding 4212 new samples to simulator store.\n",
      "Simulator: Running...\n",
      "Simulator: ...done.\n"
     ]
    },
    {
     "name": "stderr",
     "output_type": "stream",
     "text": [
      "100%|██████████| 283/283 [00:05<00:00, 56.22it/s]\n",
      "100%|██████████| 31/31 [00:00<00:00, 74.91it/s]\n",
      "  2%|▏         | 6/283 [00:00<00:05, 55.24it/s]"
     ]
    },
    {
     "name": "stdout",
     "output_type": "stream",
     "text": [
      "Training: lr=0.01, Epoch=1, VL=0.4818\r"
     ]
    },
    {
     "name": "stderr",
     "output_type": "stream",
     "text": [
      "100%|██████████| 283/283 [00:05<00:00, 55.88it/s]\n",
      "100%|██████████| 31/31 [00:00<00:00, 74.30it/s]\n",
      "  2%|▏         | 6/283 [00:00<00:04, 57.18it/s]"
     ]
    },
    {
     "name": "stdout",
     "output_type": "stream",
     "text": [
      "Training: lr=0.01, Epoch=2, VL=0.4164\r"
     ]
    },
    {
     "name": "stderr",
     "output_type": "stream",
     "text": [
      "100%|██████████| 283/283 [00:05<00:00, 55.98it/s]\n",
      "100%|██████████| 31/31 [00:00<00:00, 75.08it/s]\n",
      "  2%|▏         | 6/283 [00:00<00:04, 58.19it/s]"
     ]
    },
    {
     "name": "stdout",
     "output_type": "stream",
     "text": [
      "Training: lr=0.01, Epoch=3, VL=0.3286\r"
     ]
    },
    {
     "name": "stderr",
     "output_type": "stream",
     "text": [
      "100%|██████████| 283/283 [00:05<00:00, 56.24it/s]\n",
      "100%|██████████| 31/31 [00:00<00:00, 75.01it/s]\n",
      "  2%|▏         | 6/283 [00:00<00:04, 57.72it/s]"
     ]
    },
    {
     "name": "stdout",
     "output_type": "stream",
     "text": [
      "Training: lr=0.01, Epoch=4, VL=0.3104\r"
     ]
    },
    {
     "name": "stderr",
     "output_type": "stream",
     "text": [
      "100%|██████████| 283/283 [00:05<00:00, 56.34it/s]\n",
      "100%|██████████| 31/31 [00:00<00:00, 75.16it/s]\n",
      "  2%|▏         | 6/283 [00:00<00:04, 57.67it/s]"
     ]
    },
    {
     "name": "stdout",
     "output_type": "stream",
     "text": [
      "Training: lr=0.01, Epoch=5, VL=0.5677\n"
     ]
    },
    {
     "name": "stderr",
     "output_type": "stream",
     "text": [
      "100%|██████████| 283/283 [00:05<00:00, 56.19it/s]\n",
      "100%|██████████| 31/31 [00:00<00:00, 74.97it/s]\n",
      "  2%|▏         | 6/283 [00:00<00:04, 57.77it/s]"
     ]
    },
    {
     "name": "stdout",
     "output_type": "stream",
     "text": [
      "Training: lr=0.001, Epoch=1, VL=0.1138\r"
     ]
    },
    {
     "name": "stderr",
     "output_type": "stream",
     "text": [
      "100%|██████████| 283/283 [00:05<00:00, 55.96it/s]\n",
      "100%|██████████| 31/31 [00:00<00:00, 75.18it/s]\n",
      "  2%|▏         | 6/283 [00:00<00:04, 57.01it/s]"
     ]
    },
    {
     "name": "stdout",
     "output_type": "stream",
     "text": [
      "Training: lr=0.001, Epoch=2, VL=0.09585\r"
     ]
    },
    {
     "name": "stderr",
     "output_type": "stream",
     "text": [
      "100%|██████████| 283/283 [00:05<00:00, 56.25it/s]\n",
      "100%|██████████| 31/31 [00:00<00:00, 75.76it/s]\n",
      "  2%|▏         | 6/283 [00:00<00:04, 56.19it/s]"
     ]
    },
    {
     "name": "stdout",
     "output_type": "stream",
     "text": [
      "Training: lr=0.001, Epoch=3, VL=0.09002\r"
     ]
    },
    {
     "name": "stderr",
     "output_type": "stream",
     "text": [
      "100%|██████████| 283/283 [00:05<00:00, 56.08it/s]\n",
      "100%|██████████| 31/31 [00:00<00:00, 74.73it/s]\n",
      "  2%|▏         | 6/283 [00:00<00:04, 57.43it/s]"
     ]
    },
    {
     "name": "stdout",
     "output_type": "stream",
     "text": [
      "Training: lr=0.001, Epoch=4, VL=0.1116\n"
     ]
    },
    {
     "name": "stderr",
     "output_type": "stream",
     "text": [
      "100%|██████████| 283/283 [00:05<00:00, 56.00it/s]\n",
      "100%|██████████| 31/31 [00:00<00:00, 75.67it/s]\n",
      "  2%|▏         | 6/283 [00:00<00:05, 55.23it/s]"
     ]
    },
    {
     "name": "stdout",
     "output_type": "stream",
     "text": [
      "Training: lr=0.0001, Epoch=1, VL=0.08122\r"
     ]
    },
    {
     "name": "stderr",
     "output_type": "stream",
     "text": [
      "100%|██████████| 283/283 [00:05<00:00, 55.58it/s]\n",
      "100%|██████████| 31/31 [00:00<00:00, 73.64it/s]\n",
      "  2%|▏         | 6/283 [00:00<00:04, 55.48it/s]"
     ]
    },
    {
     "name": "stdout",
     "output_type": "stream",
     "text": [
      "Training: lr=0.0001, Epoch=2, VL=0.08069\r"
     ]
    },
    {
     "name": "stderr",
     "output_type": "stream",
     "text": [
      "100%|██████████| 283/283 [00:05<00:00, 54.94it/s]\n",
      "100%|██████████| 31/31 [00:00<00:00, 74.02it/s]\n",
      "  2%|▏         | 6/283 [00:00<00:04, 55.61it/s]"
     ]
    },
    {
     "name": "stdout",
     "output_type": "stream",
     "text": [
      "Training: lr=0.0001, Epoch=3, VL=0.07254\r"
     ]
    },
    {
     "name": "stderr",
     "output_type": "stream",
     "text": [
      "100%|██████████| 283/283 [00:05<00:00, 54.58it/s]\n",
      "100%|██████████| 31/31 [00:00<00:00, 72.87it/s]\n"
     ]
    },
    {
     "name": "stdout",
     "output_type": "stream",
     "text": [
      "Training: lr=0.0001, Epoch=4, VL=0.07356\n",
      "Bounds: Truncating...\n",
      "Bounds: ...done. New volue is V=0.02421\n"
     ]
    }
   ],
   "source": [
    "marginals = [[1, 0]]\n",
    "bound = None\n",
    "for N in [2000, 10000]:\n",
    "    task = swyft.Task(N, prior, store, simhook = noise, bound = bound)\n",
    "    task.simulate()\n",
    "    task.add(marginals, device = 'cuda')\n",
    "    task.train(marginals, train_args = dict(max_epochs = 30, lr_schedule = [1e-2, 1e-3, 1e-4]))\n",
    "    bound = task.truncate(marginals, obs0)"
   ]
  },
  {
   "cell_type": "code",
   "execution_count": 25,
   "metadata": {},
   "outputs": [],
   "source": [
    "samples = task.posteriors.sample(1000000, obs0)"
   ]
  },
  {
   "cell_type": "code",
   "execution_count": 26,
   "metadata": {},
   "outputs": [
    {
     "data": {
      "image/png": "[encoded data removed]",
      "text/plain": [
       "<Figure size 1080x1080 with 4 Axes>"
      ]
     },
     "metadata": {
      "needs_background": "light"
     },
     "output_type": "display_data"
    }
   ],
   "source": [
    "swyft.corner(samples, [0, 1], color='k', figsize = (15,15), truth=v0, bins = 100)"
   ]
  },
  {
   "cell_type": "code",
   "execution_count": 20,
   "metadata": {},
   "outputs": [
    {
     "data": {
      "text/plain": [
       "<matplotlib.collections.PathCollection at 0x15244f68c630>"
      ]
     },
     "execution_count": 20,
     "metadata": {},
     "output_type": "execute_result"
    },
    {
     "data": {
      "image/png": "[encoded data removed]",
      "text/plain": [
       "<Figure size 432x288 with 1 Axes>"
      ]
     },
     "metadata": {
      "needs_background": "light"
     },
     "output_type": "display_data"
    }
   ],
   "source": [
    "z = task.dataset.pars\n",
    "plt.scatter(z[:,0], z[:,1])"
   ]
  },
  {
   "cell_type": "code",
   "execution_count": null,
   "metadata": {},
   "outputs": [],
   "source": []
  }
 ],
 "metadata": {
  "kernelspec": {
   "display_name": "Python 3",
   "language": "python",
   "name": "python3"
  },
  "language_info": {
   "codemirror_mode": {
    "name": "ipython",
    "version": 3
   },
   "file_extension": ".py",
   "mimetype": "text/x-python",
   "name": "python",
   "nbconvert_exporter": "python",
   "pygments_lexer": "ipython3",
   "version": "3.7.3"
  }
 },
 "nbformat": 4,
 "nbformat_minor": 4
}
