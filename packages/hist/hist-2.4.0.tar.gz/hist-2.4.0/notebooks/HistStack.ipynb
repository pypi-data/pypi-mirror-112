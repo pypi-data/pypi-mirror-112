{
 "cells": [
  {
   "cell_type": "markdown",
   "id": "0ada0219-170a-418a-a6a5-b241b9b9fe42",
   "metadata": {},
   "source": [
    "# HistStack"
   ]
  },
  {
   "cell_type": "code",
   "execution_count": 1,
   "id": "6ed3ec2c-9d11-4c69-b7ce-0365079b22ff",
   "metadata": {},
   "outputs": [
    {
     "data": {
      "text/plain": [
       "[StairsArtists(stairs=<matplotlib.patches.StepPatch object at 0x17c000e80>, errorbar=<ErrorbarContainer object of 3 artists>, legend_artist=<ErrorbarContainer object of 3 artists>),\n",
       " StairsArtists(stairs=<matplotlib.patches.StepPatch object at 0x17c045af0>, errorbar=<ErrorbarContainer object of 3 artists>, legend_artist=<ErrorbarContainer object of 3 artists>),\n",
       " StairsArtists(stairs=<matplotlib.patches.StepPatch object at 0x17c0687f0>, errorbar=<ErrorbarContainer object of 3 artists>, legend_artist=<ErrorbarContainer object of 3 artists>)]"
      ]
     },
     "execution_count": 1,
     "metadata": {},
     "output_type": "execute_result"
    },
    {
     "data": {
      "image/png": "[encoded data removed]",
      "text/plain": [
       "<Figure size 432x288 with 1 Axes>"
      ]
     },
     "metadata": {
      "needs_background": "light"
     },
     "output_type": "display_data"
    }
   ],
   "source": [
    "from hist import Hist, Stack, axis, NamedHist, BaseHist\n",
    "import numpy as np\n",
    "\n",
    "ax = axis.Regular(50, -5, 5, underflow=False, overflow=False)\n",
    "\n",
    "h1 = Hist(ax).fill(2 * np.random.normal(size=500) + 2 * np.ones((500,)))\n",
    "\n",
    "h2 = Hist(ax).fill(2 * np.random.normal(size=500) - 2 * np.ones((500,)))\n",
    "\n",
    "h3 = Hist(ax).fill(np.random.normal(size=600))\n",
    "\n",
    "Stack(h1, h2, h3).plot()"
   ]
  },
  {
   "cell_type": "code",
   "execution_count": 2,
   "id": "f8d441be-c7aa-4b5e-93a0-8dd2647b6eca",
   "metadata": {},
   "outputs": [
    {
     "name": "stdout",
     "output_type": "stream",
     "text": [
      "Stack[\"Regular(50, -5, 5, underflow=False, overflow=False, name='A', label='a [unit]')\", \"Regular(50, -5, 5, underflow=False, overflow=False, name='A', label='a [unit]')\"]\n",
      "Stack[\"NamedHist(\\n  Regular(50, -5, 5, underflow=False, overflow=False, name='A', label='a [unit]'),\\n  Regular(50, -5, 5, underflow=False, overflow=False, name='B', label='b [unit]'),\\n  storage=Double())\"]\n"
     ]
    }
   ],
   "source": [
    "named_ax1 = axis.Regular(\n",
    "    50, -5, 5, name=\"A\", label=\"a [unit]\", underflow=False, overflow=False\n",
    ")\n",
    "named_ax2 = axis.Regular(\n",
    "    50, -5, 5, name=\"B\", label=\"b [unit]\", underflow=False, overflow=False\n",
    ")\n",
    "h4 = NamedHist(named_ax1, named_ax2)\n",
    "print(repr(Stack(named_ax1, named_ax1)))  # not plotable\n",
    "print(repr(Stack(h4)))  # plotable"
   ]
  },
  {
   "cell_type": "code",
   "execution_count": 3,
   "id": "379e0186-6cc7-4cec-baa1-340a4821bd85",
   "metadata": {},
   "outputs": [
    {
     "data": {
      "text/plain": [
       "Stack[\"Regular(50, -5, 5, underflow=False, overflow=False, name='B', label='b [unit]')\", \"Regular(50, -5, 5, underflow=False, overflow=False, name='B', label='b [unit]')\"]"
      ]
     },
     "execution_count": 3,
     "metadata": {},
     "output_type": "execute_result"
    }
   ],
   "source": [
    "h4.stack(1, 1)  # h4.stack(0, 1) could not work as names are different"
   ]
  },
  {
   "cell_type": "code",
   "execution_count": 4,
   "id": "a5fef029-3d52-46f9-91ed-6ad204ac87c7",
   "metadata": {},
   "outputs": [
    {
     "data": {
      "text/plain": [
       "Stack[\"Regular(50, -5, 5, underflow=False, overflow=False, name='B', label='b [unit]')\", \"Regular(50, -5, 5, underflow=False, overflow=False, name='B', label='b [unit]')\"]"
      ]
     },
     "execution_count": 4,
     "metadata": {},
     "output_type": "execute_result"
    }
   ],
   "source": [
    "h4.stack(\"B\", \"B\")"
   ]
  },
  {
   "cell_type": "code",
   "execution_count": 5,
   "id": "20770a1c-4426-4a23-977e-9cc7f1238d24",
   "metadata": {},
   "outputs": [
    {
     "data": {
      "text/plain": [
       "Stack[\"Hist(Regular(50, -5, 5, name='C', label='C'), storage=Double())\", \"Hist(Regular(50, -5, 5, name='C', label='C'), storage=Double())\"]"
      ]
     },
     "execution_count": 5,
     "metadata": {},
     "output_type": "execute_result"
    }
   ],
   "source": [
    "h5 = Hist.new.Reg(50, -5, 5, name=\"C\").StrCat([\"one\", \"two\"], name=\"y\").Double()\n",
    "Stack(h5[:, \"one\"], h5[:, \"two\"])"
   ]
  }
 ],
 "metadata": {
  "kernelspec": {
   "display_name": "hist",
   "language": "python",
   "name": "hist"
  },
  "language_info": {
   "codemirror_mode": {
    "name": "ipython",
    "version": 3
   },
   "file_extension": ".py",
   "mimetype": "text/x-python",
   "name": "python",
   "nbconvert_exporter": "python",
   "pygments_lexer": "ipython3",
   "version": "3.9.4"
  }
 },
 "nbformat": 4,
 "nbformat_minor": 5
}
