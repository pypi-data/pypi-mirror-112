{
 "cells": [
  {
   "cell_type": "code",
   "execution_count": 32,
   "metadata": {
    "scrolled": false
   },
   "outputs": [],
   "source": [
    "from slcpy.import_data import ImportDataFromAmira\n",
    "from slcpy.build_segment import *\n",
    "from skimage import io"
   ]
  },
  {
   "cell_type": "code",
   "execution_count": 33,
   "metadata": {},
   "outputs": [],
   "source": [
    "test_img = ImportDataFromAmira(\n",
    "\t\"../data/Test_ET_Slim.tif\",\n",
    "\t\"../data/Test_ET_Slim.CorrelationLines.am\"\n",
    ")"
   ]
  },
  {
   "cell_type": "code",
   "execution_count": 34,
   "outputs": [],
   "source": [
    "# test_warning = ImportDataFromAmira(\n",
    "# \t\"../data/Test_ET_Slim.am\",\n",
    "# \t\"../data/Test_ET_Slim.CorrelationLines.am\"\n",
    "# )\n",
    "# print(test_warning)"
   ],
   "metadata": {
    "collapsed": false,
    "pycharm": {
     "name": "#%%\n"
    }
   }
  },
  {
   "cell_type": "code",
   "execution_count": 35,
   "outputs": [
    {
     "name": "stdout",
     "output_type": "stream",
     "text": [
      "(65, 1001, 1001)\n",
      "../data/Test_ET_Slim.tif\n"
     ]
    }
   ],
   "source": [
    "img = io.imread(test_img.src_tiff)\n",
    "print(img.shape)\n",
    "print(test_img.src_tiff)"
   ],
   "metadata": {
    "collapsed": false,
    "pycharm": {
     "name": "#%%\n"
    }
   }
  },
  {
   "cell_type": "code",
   "execution_count": 36,
   "metadata": {
    "pycharm": {
     "name": "#%%\n"
    }
   },
   "outputs": [
    {
     "name": "stdout",
     "output_type": "stream",
     "text": [
      "(65, 1001, 1001)\n",
      "../data/Test_ET_Slim.CorrelationLines.am\n"
     ]
    }
   ],
   "source": [
    "# Test for the building empty semantic label\n",
    "label = test_img.empty_semantic_label()\n",
    "print(label.shape)\n",
    "print(test_img.src_am)"
   ]
  },
  {
   "cell_type": "code",
   "execution_count": 37,
   "outputs": [
    {
     "name": "stdout",
     "output_type": "stream",
     "text": [
      "[15]\n",
      "range(0, 210)\n"
     ]
    }
   ],
   "source": [
    "# Test for the building segments\n",
    "segments = test_img.get_segments()\n",
    "print(segments[2]) # Number of points belongs to each segment\n",
    "\n",
    "# Test for the building points [px]\n",
    "points = test_img.get_points().round() # Point belong to 1st segments with coord in pixels\n",
    "print(range(len(segments)))"
   ],
   "metadata": {
    "collapsed": false,
    "pycharm": {
     "name": "#%%\n"
    }
   }
  },
  {
   "cell_type": "code",
   "execution_count": 38,
   "outputs": [
    {
     "name": "stdout",
     "output_type": "stream",
     "text": [
      "Duration: 0:00:00.280253\n"
     ]
    }
   ],
   "source": [
    "# Interpolation speed test\n",
    "from datetime import datetime\n",
    "start_time = datetime.now()\n",
    "for i in range(len(segments)):\n",
    "\tstart_point = int(sum(segments[0:i]))\n",
    "\tstop_point = start_point + int(segments[i])\n",
    "\tif i == 0:\n",
    "\t\tstart_point = start_point + 1\n",
    "\n",
    "\tMT = interpolation_3D(points[start_point:stop_point])\n",
    "\n",
    "end_time = datetime.now()\n",
    "print('Duration: {}'.format(end_time - start_time))"
   ],
   "metadata": {
    "collapsed": false,
    "pycharm": {
     "name": "#%%\n"
    }
   }
  }
 ],
 "metadata": {
  "kernelspec": {
   "name": "python3",
   "language": "python",
   "display_name": "Python 3"
  },
  "language_info": {
   "codemirror_mode": {
    "name": "ipython",
    "version": 3
   },
   "file_extension": ".py",
   "mimetype": "text/x-python",
   "name": "python",
   "nbconvert_exporter": "python",
   "pygments_lexer": "ipython3",
   "version": "3.8.10"
  }
 },
 "nbformat": 4,
 "nbformat_minor": 1
}