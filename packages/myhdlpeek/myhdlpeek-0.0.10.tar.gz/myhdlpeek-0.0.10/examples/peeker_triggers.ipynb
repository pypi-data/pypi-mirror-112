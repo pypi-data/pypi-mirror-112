{
 "cells": [
  {
   "cell_type": "markdown",
   "metadata": {
    "toc": true
   },
   "source": [
    "<h1>Table of Contents<span class=\"tocSkip\"></span></h1>\n",
    "<div class=\"toc\"><ul class=\"toc-item\"><li><span><a href=\"#Triggers\" data-toc-modified-id=\"Triggers-1\"><span class=\"toc-item-num\">1&nbsp;&nbsp;</span>Triggers</a></span></li></ul></div>"
   ]
  },
  {
   "cell_type": "markdown",
   "metadata": {},
   "source": [
    "# Triggers\n",
    "\n",
    "If large signal traces are captured, it's useful to be able to find portions where particular things happen.\n",
    "*Triggers* are used for this.\n",
    "These are analogous to the trigger function on logic analyzers and oscilloscopes.\n",
    "\n",
    "Triggers are created by performing operations on `Trace` objects.\n",
    "A `Trace` is just a list of values for a signal and the times at which they occurred.\n",
    "Every `Peeker` object contains a `Trace` to record the values observed by the `Peeker`.\n",
    "\n",
    "Arithmetic (`+, -, *, %, /, //, **, <<, >>, abs`), logical (`&, |, ^, ~`), and comparison (`==, !=, <, >, <=, >=`) operations\n",
    "can be performed on `Trace` and `Peeker` objects to create a new `Trace` as a result:\n",
    "\n",
    "    <Trace|Peeker> op <Trace|Peeker|integer|float> => Trace\n",
    "\n",
    "There is also a `delay()` method for creating a time-shifted version of a `Trace` (useful for\n",
    "detecting edges):\n",
    "\n",
    "    <Trace|Peeker>.delay(<integer>) => Trace\n",
    "\n",
    "The times at which the resulting trace is `True` (i.e., non-zero) can be extracted as a list:\n",
    "\n",
    "    <Trace|Peeker>.trig_times() => [t0, t1, ...]\n",
    "\n",
    "These time values can be used to set the `start_time` parameter when displaying waveforms or tables:\n",
    "\n",
    "    trigs = trc.trig_times()\n",
    "    show_waveforms(..., start_time=trigs[0])\n",
    "\n",
    "I'll demonstrate the creation of triggers using `Trace` objects containing random values.\n",
    "(These same operations can be performed on `Peeker` objects;\n",
    "it's just easier to create a `Trace`.)"
   ]
  },
  {
   "cell_type": "markdown",
   "metadata": {},
   "source": [
    "First, I'll create some random traces:"
   ]
  },
  {
   "cell_type": "code",
   "execution_count": 1,
   "metadata": {
    "ExecuteTime": {
     "end_time": "2020-12-15T21:27:59.408601Z",
     "start_time": "2020-12-15T21:27:58.934037Z"
    }
   },
   "outputs": [
    {
     "data": {
      "text/html": [
       "<div><script type=\"WaveDrom\">{\"signal\": [{\"name\": \"Trc1\", \"wave\": \"=============.===.===\", \"data\": [\"1\", \"0\", \"5\", \"2\", \"0\", \"7\", \"15\", \"12\", \"13\", \"8\", \"10\", \"12\", \"3\", \"6\", \"10\", \"12\", \"6\", \"3\", \"10\"]}, {\"name\": \"Trc2\", \"wave\": \"10.1...0.1.0......1.0\"}]}</script></div>"
      ]
     },
     "metadata": {},
     "output_type": "display_data"
    },
    {
     "data": {
      "application/javascript": [
       "new Promise(function(resolve, reject) {\n",
       "\tvar script = document.createElement(\"script\");\n",
       "\tscript.onload = resolve;\n",
       "\tscript.onerror = reject;\n",
       "\tscript.src = \"https://wavedrom.com/wavedrom.min.js\";\n",
       "\tdocument.head.appendChild(script);\n",
       "}).then(() => {\n",
       "new Promise(function(resolve, reject) {\n",
       "\tvar script = document.createElement(\"script\");\n",
       "\tscript.onload = resolve;\n",
       "\tscript.onerror = reject;\n",
       "\tscript.src = \"https://wavedrom.com/skins/default.js\";\n",
       "\tdocument.head.appendChild(script);\n",
       "}).then(() => {\n",
       "WaveDrom.ProcessAll();\n",
       "});\n",
       "});"
      ]
     },
     "metadata": {},
     "output_type": "display_data"
    }
   ],
   "source": [
    "from random import randrange\n",
    "from myhdlpeek import *\n",
    "\n",
    "setup(use_wavedrom=True, use_jupyter=True)\n",
    "\n",
    "def create_random_trace(name, num_bits, num_samples):\n",
    "    trace = Trace()\n",
    "    trace.name = name\n",
    "    trace.num_bits = num_bits\n",
    "    for i in range(num_samples):\n",
    "        trace.append(Sample(i, randrange(0,2**num_bits)))\n",
    "    return trace\n",
    "\n",
    "trc1 = create_random_trace('Trc1', 4, 100)\n",
    "trc2 = create_random_trace('Trc2', 1, 100)\n",
    "\n",
    "show_traces(trc1, trc2, stop_time=20)"
   ]
  },
  {
   "cell_type": "markdown",
   "metadata": {},
   "source": [
    "A common trigger is to look for a positive-going edge on a signal.\n",
    "This can be done by logically-ANDing the signal to a time-delayed and inverted version of itself:"
   ]
  },
  {
   "cell_type": "code",
   "execution_count": 2,
   "metadata": {
    "ExecuteTime": {
     "end_time": "2020-12-15T21:27:59.432847Z",
     "start_time": "2020-12-15T21:27:59.410819Z"
    }
   },
   "outputs": [
    {
     "name": "stdout",
     "output_type": "stream",
     "text": [
      "Trigger times: [3, 9, 18, 22, 29, 34, 38, 43, 46, 50, 55, 57, 62, 64, 67, 70, 73, 79, 83, 89, 95]\n"
     ]
    },
    {
     "data": {
      "text/html": [
       "<div><script type=\"WaveDrom\">{\"signal\": [{\"name\": \"Trc2\", \"wave\": \"1...0.1.0......1.0.1.\"}, {\"name\": \"+Trc2\", \"wave\": \"10....10.......10..10\"}], \"head\": {\"tock\": 3}, \"foot\": {\"tock\": 3}}</script></div>"
      ]
     },
     "metadata": {},
     "output_type": "display_data"
    },
    {
     "data": {
      "application/javascript": [
       "new Promise(function(resolve, reject) {\n",
       "\tvar script = document.createElement(\"script\");\n",
       "\tscript.onload = resolve;\n",
       "\tscript.onerror = reject;\n",
       "\tscript.src = \"https://wavedrom.com/wavedrom.min.js\";\n",
       "\tdocument.head.appendChild(script);\n",
       "}).then(() => {\n",
       "new Promise(function(resolve, reject) {\n",
       "\tvar script = document.createElement(\"script\");\n",
       "\tscript.onload = resolve;\n",
       "\tscript.onerror = reject;\n",
       "\tscript.src = \"https://wavedrom.com/skins/default.js\";\n",
       "\tdocument.head.appendChild(script);\n",
       "}).then(() => {\n",
       "WaveDrom.ProcessAll();\n",
       "});\n",
       "});"
      ]
     },
     "metadata": {},
     "output_type": "display_data"
    }
   ],
   "source": [
    "posedge_trc = trc2 & ~trc2.delay(1)    # Create trigger trace that is 1 whenever trc2 has a rising edge.\n",
    "posedge_trc.name = '+Trc2'\n",
    "trigs = posedge_trc.trig_times()       # Get times at which the trigger trace is 1.\n",
    "print('Trigger times:', trigs)\n",
    "start_time = trigs[0]                  # Start waveform display at the first trigger.\n",
    "stop_time = start_time+20              # Stop waveform display after 20 time units.\n",
    "show_traces(trc2, posedge_trc, start_time=start_time, stop_time=stop_time, tock=True)"
   ]
  },
  {
   "cell_type": "markdown",
   "metadata": {},
   "source": [
    "Naturally, there are convenience functions for these common cases: `posedge()`, `negedge()` and `anyedge()`:"
   ]
  },
  {
   "cell_type": "code",
   "execution_count": 3,
   "metadata": {
    "ExecuteTime": {
     "end_time": "2020-12-15T21:27:59.457414Z",
     "start_time": "2020-12-15T21:27:59.434641Z"
    }
   },
   "outputs": [
    {
     "data": {
      "text/html": [
       "<div><script type=\"WaveDrom\">{\"signal\": [{\"name\": \"Trc2\", \"wave\": \"10.1...0.1.0......1.0\"}, {\"name\": \"+Trc2\", \"wave\": \"0..10....10.......10.\"}, {\"name\": \"-Trc2\", \"wave\": \"010....10..10.......1\"}, {\"name\": \"+/-Trc2\", \"wave\": \"01010..101010.....101\"}]}</script></div>"
      ]
     },
     "metadata": {},
     "output_type": "display_data"
    },
    {
     "data": {
      "application/javascript": [
       "new Promise(function(resolve, reject) {\n",
       "\tvar script = document.createElement(\"script\");\n",
       "\tscript.onload = resolve;\n",
       "\tscript.onerror = reject;\n",
       "\tscript.src = \"https://wavedrom.com/wavedrom.min.js\";\n",
       "\tdocument.head.appendChild(script);\n",
       "}).then(() => {\n",
       "new Promise(function(resolve, reject) {\n",
       "\tvar script = document.createElement(\"script\");\n",
       "\tscript.onload = resolve;\n",
       "\tscript.onerror = reject;\n",
       "\tscript.src = \"https://wavedrom.com/skins/default.js\";\n",
       "\tdocument.head.appendChild(script);\n",
       "}).then(() => {\n",
       "WaveDrom.ProcessAll();\n",
       "});\n",
       "});"
      ]
     },
     "metadata": {},
     "output_type": "display_data"
    }
   ],
   "source": [
    "posedge_trc = trc2.posedge(); posedge_trc.name = '+Trc2'\n",
    "negedge_trc = trc2.negedge(); negedge_trc.name = '-Trc2'\n",
    "anyedge_trc = trc2.anyedge(); anyedge_trc.name = '+/-Trc2'\n",
    "show_traces(trc2, posedge_trc, negedge_trc, anyedge_trc, stop_time=20)"
   ]
  },
  {
   "cell_type": "markdown",
   "metadata": {},
   "source": [
    "Another common trigger is to look for when a bus has a certain value:"
   ]
  },
  {
   "cell_type": "code",
   "execution_count": 4,
   "metadata": {
    "ExecuteTime": {
     "end_time": "2020-12-15T21:27:59.476735Z",
     "start_time": "2020-12-15T21:27:59.459089Z"
    }
   },
   "outputs": [
    {
     "data": {
      "text/html": [
       "<div><script type=\"WaveDrom\">{\"signal\": [{\"name\": \"Trc1\", \"wave\": \"=============.===.===\", \"data\": [\"1\", \"0\", \"5\", \"2\", \"0\", \"7\", \"15\", \"12\", \"13\", \"8\", \"10\", \"12\", \"3\", \"6\", \"10\", \"12\", \"6\", \"3\", \"10\"]}, {\"name\": null, \"wave\": \"0....10..............\"}]}</script></div>"
      ]
     },
     "metadata": {},
     "output_type": "display_data"
    },
    {
     "data": {
      "application/javascript": [
       "new Promise(function(resolve, reject) {\n",
       "\tvar script = document.createElement(\"script\");\n",
       "\tscript.onload = resolve;\n",
       "\tscript.onerror = reject;\n",
       "\tscript.src = \"https://wavedrom.com/wavedrom.min.js\";\n",
       "\tdocument.head.appendChild(script);\n",
       "}).then(() => {\n",
       "new Promise(function(resolve, reject) {\n",
       "\tvar script = document.createElement(\"script\");\n",
       "\tscript.onload = resolve;\n",
       "\tscript.onerror = reject;\n",
       "\tscript.src = \"https://wavedrom.com/skins/default.js\";\n",
       "\tdocument.head.appendChild(script);\n",
       "}).then(() => {\n",
       "WaveDrom.ProcessAll();\n",
       "});\n",
       "});"
      ]
     },
     "metadata": {},
     "output_type": "display_data"
    }
   ],
   "source": [
    "val_trc = trc1 == 7  # Create a trigger trace that is 1 whenever trc1 has the value 7.\n",
    "trigs = val_trc.trig_times()\n",
    "show_traces(trc1, val_trc, start_time=trigs[0]-5, stop_time=trigs[0]+15)"
   ]
  },
  {
   "cell_type": "markdown",
   "metadata": {},
   "source": [
    "Or detect when a bus is between two values:"
   ]
  },
  {
   "cell_type": "code",
   "execution_count": 5,
   "metadata": {
    "ExecuteTime": {
     "end_time": "2020-12-15T21:27:59.497843Z",
     "start_time": "2020-12-15T21:27:59.477899Z"
    }
   },
   "outputs": [
    {
     "data": {
      "text/html": [
       "<div><script type=\"WaveDrom\">{\"signal\": [{\"name\": \"Trc1\", \"wave\": \"===========.===.=====\", \"data\": [\"5\", \"2\", \"0\", \"7\", \"15\", \"12\", \"13\", \"8\", \"10\", \"12\", \"3\", \"6\", \"10\", \"12\", \"6\", \"3\", \"10\", \"3\", \"2\"]}, {\"name\": null, \"wave\": \"10.10..10...10..10...\"}]}</script></div>"
      ]
     },
     "metadata": {},
     "output_type": "display_data"
    },
    {
     "data": {
      "application/javascript": [
       "new Promise(function(resolve, reject) {\n",
       "\tvar script = document.createElement(\"script\");\n",
       "\tscript.onload = resolve;\n",
       "\tscript.onerror = reject;\n",
       "\tscript.src = \"https://wavedrom.com/wavedrom.min.js\";\n",
       "\tdocument.head.appendChild(script);\n",
       "}).then(() => {\n",
       "new Promise(function(resolve, reject) {\n",
       "\tvar script = document.createElement(\"script\");\n",
       "\tscript.onload = resolve;\n",
       "\tscript.onerror = reject;\n",
       "\tscript.src = \"https://wavedrom.com/skins/default.js\";\n",
       "\tdocument.head.appendChild(script);\n",
       "}).then(() => {\n",
       "WaveDrom.ProcessAll();\n",
       "});\n",
       "});"
      ]
     },
     "metadata": {},
     "output_type": "display_data"
    }
   ],
   "source": [
    "val_trc = (5 <= trc1) & (trc1 <= 8)  # Trigger when trace value is in range [5,8].\n",
    "trigs = val_trc.trig_times()\n",
    "show_traces(trc1, val_trc, start_time=trigs[0], stop_time=trigs[0]+20)"
   ]
  },
  {
   "cell_type": "markdown",
   "metadata": {},
   "source": [
    "Or trigger when several bits of a bus have a certain value:"
   ]
  },
  {
   "cell_type": "code",
   "execution_count": 6,
   "metadata": {
    "ExecuteTime": {
     "end_time": "2020-12-15T21:27:59.520212Z",
     "start_time": "2020-12-15T21:27:59.499185Z"
    }
   },
   "outputs": [
    {
     "data": {
      "text/html": [
       "<div><script type=\"WaveDrom\">{\"signal\": [{\"name\": \"Trc1\", \"wave\": \"=============.===.===\", \"data\": [\"1\", \"0\", \"5\", \"2\", \"0\", \"7\", \"15\", \"12\", \"13\", \"8\", \"10\", \"12\", \"3\", \"6\", \"10\", \"12\", \"6\", \"3\", \"10\"]}, {\"name\": null, \"wave\": \"0....1.0......10..10.\"}]}</script></div>"
      ]
     },
     "metadata": {},
     "output_type": "display_data"
    },
    {
     "data": {
      "application/javascript": [
       "new Promise(function(resolve, reject) {\n",
       "\tvar script = document.createElement(\"script\");\n",
       "\tscript.onload = resolve;\n",
       "\tscript.onerror = reject;\n",
       "\tscript.src = \"https://wavedrom.com/wavedrom.min.js\";\n",
       "\tdocument.head.appendChild(script);\n",
       "}).then(() => {\n",
       "new Promise(function(resolve, reject) {\n",
       "\tvar script = document.createElement(\"script\");\n",
       "\tscript.onload = resolve;\n",
       "\tscript.onerror = reject;\n",
       "\tscript.src = \"https://wavedrom.com/skins/default.js\";\n",
       "\tdocument.head.appendChild(script);\n",
       "}).then(() => {\n",
       "WaveDrom.ProcessAll();\n",
       "});\n",
       "});"
      ]
     },
     "metadata": {},
     "output_type": "display_data"
    }
   ],
   "source": [
    "bit_val_trc = ((trc1 & 0b0110)>>1) == 3 # Trigger when bits 1 and 2 are both on (trc1 is 6, 7, 14 or 15).\n",
    "trig = bit_val_trc.trig_times()[0]\n",
    "show_traces(trc1, bit_val_trc, start_time=trig-5, stop_time=trig+15)"
   ]
  },
  {
   "cell_type": "markdown",
   "metadata": {},
   "source": [
    "Complicated triggers are possible. Here's one that triggers when consecutive bus values differ by more than 10:"
   ]
  },
  {
   "cell_type": "code",
   "execution_count": 7,
   "metadata": {
    "ExecuteTime": {
     "end_time": "2020-12-15T21:27:59.542271Z",
     "start_time": "2020-12-15T21:27:59.522114Z"
    }
   },
   "outputs": [
    {
     "data": {
      "text/html": [
       "<div><script type=\"WaveDrom\">{\"signal\": [{\"name\": \"Trc1\", \"wave\": \"======.==============\", \"data\": [\"6\", \"3\", \"10\", \"3\", \"2\", \"13\", \"7\", \"0\", \"6\", \"2\", \"11\", \"6\", \"12\", \"8\", \"5\", \"9\", \"12\", \"1\", \"15\", \"14\"]}, {\"name\": null, \"wave\": \"0....10...........1.0\"}]}</script></div>"
      ]
     },
     "metadata": {},
     "output_type": "display_data"
    },
    {
     "data": {
      "application/javascript": [
       "new Promise(function(resolve, reject) {\n",
       "\tvar script = document.createElement(\"script\");\n",
       "\tscript.onload = resolve;\n",
       "\tscript.onerror = reject;\n",
       "\tscript.src = \"https://wavedrom.com/wavedrom.min.js\";\n",
       "\tdocument.head.appendChild(script);\n",
       "}).then(() => {\n",
       "new Promise(function(resolve, reject) {\n",
       "\tvar script = document.createElement(\"script\");\n",
       "\tscript.onload = resolve;\n",
       "\tscript.onerror = reject;\n",
       "\tscript.src = \"https://wavedrom.com/skins/default.js\";\n",
       "\tdocument.head.appendChild(script);\n",
       "}).then(() => {\n",
       "WaveDrom.ProcessAll();\n",
       "});\n",
       "});"
      ]
     },
     "metadata": {},
     "output_type": "display_data"
    }
   ],
   "source": [
    "diff_trc = (abs(trc1 - trc1.delay(1))) > 10\n",
    "trig = diff_trc.trig_times()[0]\n",
    "show_traces(trc1, diff_trc, start_time=trig-5, stop_time=trig+15)"
   ]
  },
  {
   "cell_type": "markdown",
   "metadata": {},
   "source": [
    "Since the output of operations on `Trace`s is another `Trace`, it's possible to\n",
    "concatenate several operations to get a concise trigger expression:"
   ]
  },
  {
   "cell_type": "code",
   "execution_count": 8,
   "metadata": {
    "ExecuteTime": {
     "end_time": "2020-12-15T21:27:59.575652Z",
     "start_time": "2020-12-15T21:27:59.543798Z"
    }
   },
   "outputs": [
    {
     "data": {
      "text/html": [
       "<div><script type=\"WaveDrom\">{\"signal\": [{\"name\": \"Trc1\", \"wave\": \"===========.===.=====\", \"data\": [\"5\", \"2\", \"0\", \"7\", \"15\", \"12\", \"13\", \"8\", \"10\", \"12\", \"3\", \"6\", \"10\", \"12\", \"6\", \"3\", \"10\", \"3\", \"2\"]}, {\"name\": null, \"wave\": \"10.10..10...10..10...\"}]}</script></div>"
      ]
     },
     "metadata": {},
     "output_type": "display_data"
    },
    {
     "data": {
      "application/javascript": [
       "new Promise(function(resolve, reject) {\n",
       "\tvar script = document.createElement(\"script\");\n",
       "\tscript.onload = resolve;\n",
       "\tscript.onerror = reject;\n",
       "\tscript.src = \"https://wavedrom.com/wavedrom.min.js\";\n",
       "\tdocument.head.appendChild(script);\n",
       "}).then(() => {\n",
       "new Promise(function(resolve, reject) {\n",
       "\tvar script = document.createElement(\"script\");\n",
       "\tscript.onload = resolve;\n",
       "\tscript.onerror = reject;\n",
       "\tscript.src = \"https://wavedrom.com/skins/default.js\";\n",
       "\tdocument.head.appendChild(script);\n",
       "}).then(() => {\n",
       "WaveDrom.ProcessAll();\n",
       "});\n",
       "});"
      ]
     },
     "metadata": {},
     "output_type": "display_data"
    }
   ],
   "source": [
    "trig = ((5 <= trc1) & (trc1 <= 8)).trig_times()[0]\n",
    "show_traces(trc1, val_trc, start_time=trig, stop_time=trig+20)"
   ]
  },
  {
   "cell_type": "code",
   "execution_count": null,
   "metadata": {},
   "outputs": [],
   "source": []
  }
 ],
 "metadata": {
  "kernelspec": {
   "display_name": "Python 3",
   "language": "python",
   "name": "python3"
  },
  "language_info": {
   "codemirror_mode": {
    "name": "ipython",
    "version": 3
   },
   "file_extension": ".py",
   "mimetype": "text/x-python",
   "name": "python",
   "nbconvert_exporter": "python",
   "pygments_lexer": "ipython3",
   "version": "3.8.6"
  },
  "toc": {
   "base_numbering": 1,
   "nav_menu": {},
   "number_sections": true,
   "sideBar": true,
   "skip_h1_title": false,
   "title_cell": "Table of Contents",
   "title_sidebar": "Contents",
   "toc_cell": true,
   "toc_position": {},
   "toc_section_display": true,
   "toc_window_display": false
  }
 },
 "nbformat": 4,
 "nbformat_minor": 2
}
