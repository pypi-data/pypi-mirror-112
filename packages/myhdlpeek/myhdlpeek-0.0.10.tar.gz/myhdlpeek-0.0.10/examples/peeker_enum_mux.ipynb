{
 "cells": [
  {
   "cell_type": "markdown",
   "metadata": {
    "toc": true
   },
   "source": [
    "<h1>Table of Contents<span class=\"tocSkip\"></span></h1>\n",
    "<div class=\"toc\"><ul class=\"toc-item\"><li><span><a href=\"#An-Enum-Multiplexer-Example\" data-toc-modified-id=\"An-Enum-Multiplexer-Example-1\"><span class=\"toc-item-num\">1&nbsp;&nbsp;</span>An Enum Multiplexer Example</a></span></li></ul></div>"
   ]
  },
  {
   "cell_type": "markdown",
   "metadata": {},
   "source": [
    "# An Enum Multiplexer Example\n",
    "\n",
    "This example shows how to use the `myhdlpeek` module to monitor the inputs and output of a two-input multiplexer that is muxing `enum` signals."
   ]
  },
  {
   "cell_type": "code",
   "execution_count": 1,
   "metadata": {
    "ExecuteTime": {
     "end_time": "2020-12-15T21:34:19.315535Z",
     "start_time": "2020-12-15T21:34:18.240191Z"
    }
   },
   "outputs": [
    {
     "name": "stdout",
     "output_type": "stream",
     "text": [
      "t  z a b sel\n",
      "1  three three three 1\n",
      "2  three three zero 1\n",
      "3  zero one zero 0\n",
      "4  two two two 1\n",
      "5  three three one 1\n",
      "6  three three three 1\n",
      "7  two three two 0\n",
      "8  zero two zero 0\n"
     ]
    },
    {
     "name": "stderr",
     "output_type": "stream",
     "text": [
      "<class 'myhdl.StopSimulation'>: No more events\n"
     ]
    },
    {
     "data": {
      "text/html": [
       "<table>\n",
       "<thead>\n",
       "<tr><th style=\"text-align: right;\">  Time</th><th>a    </th><th>b    </th><th style=\"text-align: right;\">  select</th><th>z    </th></tr>\n",
       "</thead>\n",
       "<tbody>\n",
       "<tr><td style=\"text-align: right;\">     0</td><td>three</td><td>three</td><td style=\"text-align: right;\">       1</td><td>three</td></tr>\n",
       "<tr><td style=\"text-align: right;\">     1</td><td>three</td><td>zero </td><td style=\"text-align: right;\">       1</td><td>three</td></tr>\n",
       "<tr><td style=\"text-align: right;\">     2</td><td>one  </td><td>zero </td><td style=\"text-align: right;\">       0</td><td>zero </td></tr>\n",
       "<tr><td style=\"text-align: right;\">     3</td><td>two  </td><td>two  </td><td style=\"text-align: right;\">       1</td><td>two  </td></tr>\n",
       "<tr><td style=\"text-align: right;\">     4</td><td>three</td><td>one  </td><td style=\"text-align: right;\">       1</td><td>three</td></tr>\n",
       "<tr><td style=\"text-align: right;\">     5</td><td>three</td><td>three</td><td style=\"text-align: right;\">       1</td><td>three</td></tr>\n",
       "<tr><td style=\"text-align: right;\">     6</td><td>three</td><td>two  </td><td style=\"text-align: right;\">       0</td><td>two  </td></tr>\n",
       "<tr><td style=\"text-align: right;\">     7</td><td>two  </td><td>zero </td><td style=\"text-align: right;\">       0</td><td>zero </td></tr>\n",
       "</tbody>\n",
       "</table>"
      ]
     },
     "metadata": {},
     "output_type": "display_data"
    },
    {
     "data": {
      "image/png": "[encoded data removed]",
      "text/plain": [
       "<Figure size 252x144 with 4 Axes>"
      ]
     },
     "metadata": {
      "needs_background": "light"
     },
     "output_type": "display_data"
    }
   ],
   "source": [
    "from myhdl import *\n",
    "from myhdlpeek import Peeker  # Import the myhdlpeeker module.\n",
    "\n",
    "def mux(z, a, b, sel):\n",
    "    \"\"\"A simple multiplexer.\"\"\"\n",
    "\n",
    "    @always_comb\n",
    "    def mux_logic():\n",
    "        if sel == 1:\n",
    "            z.next = a  # Signal a sent to mux output when sel is high.\n",
    "        else:\n",
    "            z.next = b  # Signal b sent to mux output when sel is low.\n",
    "           \n",
    "    return mux_logic\n",
    "\n",
    "# Create some signals to attach to the multiplexer.\n",
    "states = enum('zero', 'one', 'two', 'three', )\n",
    "a, b, z = [Signal(states.zero) for _ in range(3)]  # Enum signals for the inputs & output.\n",
    "sel = Signal(bool(0))                    # Binary signal for the selector.\n",
    "\n",
    "# Create some Peekers to monitor the multiplexer I/Os.\n",
    "Peeker.clear()         # Clear any existing Peekers. (Start with a clean slate.)\n",
    "Peeker(a, 'a')         # Add a Peeker to the a input.\n",
    "Peeker(b, 'b')         # Add a Peeker to the b input.\n",
    "Peeker(z, 'z')         # Add a peeker to the z output.\n",
    "Peeker(sel, 'select')  # Add a Peeker to the select input. The Peeker label doesn't have to match the signal name.\n",
    "\n",
    "# Instantiate mux.\n",
    "mux_1 = mux(z, a, b, sel)\n",
    "\n",
    "# Create a simple testbed to apply random patterns to the multiplexer.\n",
    "from random import choice, randrange\n",
    "def test():\n",
    "    '''Simple testbed generator that applies random inputs to the multiplexer.'''\n",
    "    choices = [states.__dict__[k] for k in states._names]\n",
    "    print(\"t  z a b sel\")\n",
    "    for _ in range(8):\n",
    "        a.next, b.next, sel.next = choice(choices), choice(choices), randrange(0,2)\n",
    "        yield delay(1)\n",
    "        print(\"%d  %s %s %s %s\" % (now(), z, a, b, sel))\n",
    "\n",
    "# Simulate the multiplexer, testbed and the peekers.\n",
    "sim = Simulation(mux_1, test(), *Peeker.instances()).run()\n",
    "\n",
    "# Display table of signal values.\n",
    "Peeker.to_html_table()\n",
    "\n",
    "# Display the complete waveforms captured by all the Peekers. \n",
    "Peeker.show_waveforms()\n"
   ]
  }
 ],
 "metadata": {
  "kernelspec": {
   "display_name": "Python 3",
   "language": "python",
   "name": "python3"
  },
  "language_info": {
   "codemirror_mode": {
    "name": "ipython",
    "version": 3
   },
   "file_extension": ".py",
   "mimetype": "text/x-python",
   "name": "python",
   "nbconvert_exporter": "python",
   "pygments_lexer": "ipython3",
   "version": "3.8.6"
  },
  "toc": {
   "base_numbering": 1,
   "nav_menu": {},
   "number_sections": true,
   "sideBar": true,
   "skip_h1_title": false,
   "title_cell": "Table of Contents",
   "title_sidebar": "Contents",
   "toc_cell": true,
   "toc_position": {},
   "toc_section_display": true,
   "toc_window_display": false
  }
 },
 "nbformat": 4,
 "nbformat_minor": 2
}
