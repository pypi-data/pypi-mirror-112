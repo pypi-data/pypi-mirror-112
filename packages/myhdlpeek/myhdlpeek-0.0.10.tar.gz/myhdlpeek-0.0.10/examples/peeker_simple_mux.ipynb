{
 "cells": [
  {
   "cell_type": "markdown",
   "metadata": {
    "toc": true
   },
   "source": [
    "<h1>Table of Contents<span class=\"tocSkip\"></span></h1>\n",
    "<div class=\"toc\"><ul class=\"toc-item\"><li><span><a href=\"#A-Simple-Multiplexer-Example\" data-toc-modified-id=\"A-Simple-Multiplexer-Example-1\"><span class=\"toc-item-num\">1&nbsp;&nbsp;</span>A Simple Multiplexer Example</a></span></li></ul></div>"
   ]
  },
  {
   "cell_type": "markdown",
   "metadata": {},
   "source": [
    "# A Simple Multiplexer Example\n",
    "\n",
    "This example shows how to use the `myhdlpeek` module to monitor the inputs and output of a simple, two-input multiplexer."
   ]
  },
  {
   "cell_type": "code",
   "execution_count": 4,
   "metadata": {
    "ExecuteTime": {
     "end_time": "2020-12-15T21:27:46.840188Z",
     "start_time": "2020-12-15T21:27:46.342040Z"
    }
   },
   "outputs": [
    {
     "name": "stdout",
     "output_type": "stream",
     "text": [
      "t  z a b sel\n",
      "1  3 2 3 False\n",
      "2  1 6 1 False\n",
      "3  2 0 2 False\n",
      "4  2 2 4 1\n",
      "5  1 6 1 0\n",
      "6  4 4 1 1\n",
      "7  2 2 7 1\n",
      "8  1 6 1 0\n"
     ]
    },
    {
     "name": "stderr",
     "output_type": "stream",
     "text": [
      "<class 'myhdl.StopSimulation'>: No more events\n"
     ]
    },
    {
     "data": {
      "image/png": "[encoded data removed]",
      "text/plain": [
       "<Figure size 252x144 with 4 Axes>"
      ]
     },
     "metadata": {
      "needs_background": "light"
     },
     "output_type": "display_data"
    }
   ],
   "source": [
    "from myhdl import *\n",
    "from myhdlpeek import *  # Import the myhdlpeeker module.\n",
    "\n",
    "def mux(z, a, b, sel):\n",
    "    \"\"\"A simple multiplexer.\"\"\"\n",
    "\n",
    "    @always_comb\n",
    "    def mux_logic():\n",
    "        if sel == 1:\n",
    "            z.next = a  # Signal a sent to mux output when sel is high.\n",
    "        else:\n",
    "            z.next = b  # Signal b sent to mux output when sel is low.\n",
    "           \n",
    "    return mux_logic\n",
    "\n",
    "# Create some signals to attach to the multiplexer.\n",
    "a, b, z = [Signal(0) for _ in range(3)]  # Integer signals for the inputs & output.\n",
    "sel = Signal(bool(0))                    # Binary signal for the selector.\n",
    "\n",
    "# Create some Peekers to monitor the multiplexer I/Os.\n",
    "Peeker.clear()         # Clear any existing Peekers. (Start with a clean slate.)\n",
    "Peeker(a, 'a')         # Add a Peeker to the a input.\n",
    "Peeker(b, 'b')         # Add a Peeker to the b input.\n",
    "Peeker(z, 'z')         # Add a peeker to the z output.\n",
    "Peeker(sel, 'select')  # Add a Peeker to the select input. The Peeker label doesn't have to match the signal name.\n",
    "\n",
    "# Instantiate mux.\n",
    "mux_1 = mux(z, a, b, sel)\n",
    "\n",
    "# Create a simple testbed to apply random patterns to the multiplexer.\n",
    "from random import randrange\n",
    "def test():\n",
    "    '''Simple testbed generator that applies random inputs to the multiplexer.'''\n",
    "    print(\"t  z a b sel\")\n",
    "    for _ in range(8):\n",
    "        a.next, b.next, sel.next = randrange(8), randrange(8), randrange(2)\n",
    "        yield delay(1)\n",
    "        print(\"%d  %s %s %s %s\" % (now(), z, a, b, sel))\n",
    "\n",
    "# Simulate the multiplexer, testbed and the peekers.\n",
    "sim = Simulation(mux_1, test(), *Peeker.instances()).run()\n",
    "\n",
    "setup(use_jupyter=True, use_wavedrom=False)\n",
    "\n",
    "# Display the complete waveforms captured by all the Peekers. \n",
    "# clear_traces()\n",
    "show_waveforms()\n"
   ]
  }
 ],
 "metadata": {
  "kernelspec": {
   "display_name": "Python 3",
   "language": "python",
   "name": "python3"
  },
  "language_info": {
   "codemirror_mode": {
    "name": "ipython",
    "version": 3
   },
   "file_extension": ".py",
   "mimetype": "text/x-python",
   "name": "python",
   "nbconvert_exporter": "python",
   "pygments_lexer": "ipython3",
   "version": "3.8.6"
  },
  "toc": {
   "base_numbering": 1,
   "nav_menu": {},
   "number_sections": true,
   "sideBar": true,
   "skip_h1_title": false,
   "title_cell": "Table of Contents",
   "title_sidebar": "Contents",
   "toc_cell": true,
   "toc_position": {},
   "toc_section_display": true,
   "toc_window_display": false
  }
 },
 "nbformat": 4,
 "nbformat_minor": 2
}
