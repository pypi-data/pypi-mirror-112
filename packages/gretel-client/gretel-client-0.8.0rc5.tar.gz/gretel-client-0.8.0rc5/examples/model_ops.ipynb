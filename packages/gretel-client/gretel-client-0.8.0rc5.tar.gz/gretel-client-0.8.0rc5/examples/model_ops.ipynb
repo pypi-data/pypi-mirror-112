{
 "cells": [
  {
   "cell_type": "code",
   "execution_count": null,
   "id": "rolled-sending",
   "metadata": {},
   "outputs": [],
   "source": [
    "import json\n",
    "\n",
    "import pandas as pd\n",
    "import smart_open\n",
    "\n",
    "from gretel_client.projects import get_project, search_projects, models"
   ]
  },
  {
   "cell_type": "markdown",
   "id": "italic-mileage",
   "metadata": {},
   "source": [
    "## Projects Api\n",
    "\n",
    "Note: This notebook assumes the host machine has been configured with Gretel Api credentials."
   ]
  },
  {
   "cell_type": "code",
   "execution_count": null,
   "id": "blank-remove",
   "metadata": {},
   "outputs": [],
   "source": [
    "for p in search_projects(limit=1):\n",
    "    print(json.dumps(p.info(), indent=4, sort_keys=True))"
   ]
  },
  {
   "cell_type": "code",
   "execution_count": null,
   "id": "bound-hollywood",
   "metadata": {},
   "outputs": [],
   "source": [
    "project = get_project(create=True)"
   ]
  },
  {
   "cell_type": "markdown",
   "id": "second-spain",
   "metadata": {},
   "source": [
    "## Models Api"
   ]
  },
  {
   "cell_type": "code",
   "execution_count": null,
   "id": "measured-feelings",
   "metadata": {},
   "outputs": [],
   "source": [
    "model = project.create_model(model_config=\"synthetics/default\")\n",
    "\n",
    "# this will override the datasource set from the template or blueprint\n",
    "model.data_source = \"https://gretel-public-website.s3.us-west-2.amazonaws.com/datasets/USAdultIncome5k.csv\" "
   ]
  },
  {
   "cell_type": "code",
   "execution_count": null,
   "id": "finnish-chapel",
   "metadata": {},
   "outputs": [],
   "source": [
    "pd.read_csv(model.data_source)"
   ]
  },
  {
   "cell_type": "code",
   "execution_count": null,
   "id": "oriented-queens",
   "metadata": {},
   "outputs": [],
   "source": [
    "model.submit(runner_mode=models.RunnerMode.CLOUD, upload_data_source=True)"
   ]
  },
  {
   "cell_type": "code",
   "execution_count": null,
   "id": "prostate-colonial",
   "metadata": {},
   "outputs": [],
   "source": [
    "for update in model.poll_logs_status():\n",
    "    if update.transitioned:\n",
    "        print(f\"Status is {update.status}\")\n",
    "    for log in update.logs:\n",
    "        msg = f\"{log['ts']}  {log['msg']}\"\n",
    "        if log[\"ctx\"]:\n",
    "            msg += f\"\\n{json.dumps(log['ctx'], indent=4)}\"\n",
    "        print(msg)\n",
    "    if update.error:\n",
    "        print(f\"\\t{update.error}\")"
   ]
  },
  {
   "cell_type": "markdown",
   "id": "phantom-investigation",
   "metadata": {},
   "source": [
    "## Artifacts Api"
   ]
  },
  {
   "cell_type": "code",
   "execution_count": null,
   "id": "proud-freeware",
   "metadata": {},
   "outputs": [],
   "source": [
    "# list out all available artifacts and their download link\n",
    "for art, link in model.get_artifacts():\n",
    "    print(art, link)"
   ]
  },
  {
   "cell_type": "code",
   "execution_count": null,
   "id": "unsigned-potential",
   "metadata": {},
   "outputs": [],
   "source": [
    "# read the data preview into a dataframe\n",
    "df = pd.read_csv(model.get_artifact_link(\"data_preview\"), compression='gzip')"
   ]
  },
  {
   "cell_type": "code",
   "execution_count": null,
   "id": "objective-international",
   "metadata": {},
   "outputs": [],
   "source": [
    "df.head()"
   ]
  },
  {
   "cell_type": "code",
   "execution_count": null,
   "id": "overhead-arkansas",
   "metadata": {
    "tags": []
   },
   "outputs": [],
   "source": [
    "# download and parse the model report into a python object\n",
    "with smart_open.open(model.get_artifact_link(\"report_json\"), \"rb\") as rfd:\n",
    "    report_json = json.loads(rfd.read())\n",
    "\n",
    "report_json.keys()"
   ]
  },
  {
   "cell_type": "code",
   "execution_count": null,
   "id": "forty-grave",
   "metadata": {},
   "outputs": [],
   "source": []
  }
 ],
 "metadata": {
  "kernelspec": {
   "name": "python379jvsc74a57bd09bba8f6ed2feafdad698ed6a1926c15a7650a75eedae60d223f34187f1656d66",
   "display_name": "Python 3.7.9 64-bit ('g': virtualenvwrapper)"
  },
  "language_info": {
   "codemirror_mode": {
    "name": "ipython",
    "version": 3
   },
   "file_extension": ".py",
   "mimetype": "text/x-python",
   "name": "python",
   "nbconvert_exporter": "python",
   "pygments_lexer": "ipython3",
   "version": "3.7.9"
  }
 },
 "nbformat": 4,
 "nbformat_minor": 5
}
