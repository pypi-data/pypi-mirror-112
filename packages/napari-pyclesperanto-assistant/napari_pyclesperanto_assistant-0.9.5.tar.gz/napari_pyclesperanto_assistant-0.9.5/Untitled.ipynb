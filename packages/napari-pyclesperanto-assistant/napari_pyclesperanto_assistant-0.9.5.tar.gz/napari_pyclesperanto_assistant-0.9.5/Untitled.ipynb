{
 "cells": [
  {
   "cell_type": "code",
   "execution_count": 10,
   "id": "similar-signal",
   "metadata": {},
   "outputs": [
    {
     "name": "stdout",
     "output_type": "stream",
     "text": [
      "c\n"
     ]
    }
   ],
   "source": [
    "%gui qt\n",
    "import numpy as np\n",
    "from skimage.io import imread\n",
    "from skimage import filters\n",
    "from skimage.measure import label\n",
    "import napari\n",
    "\n",
    "# blobs example image from ImageJ\n",
    "image = imread(\"c:/structure/data/blobs.tif\")\n",
    "threshold = filters.threshold_otsu(image)\n",
    "thresholded_image = image >= threshold\n",
    "\n",
    "labels = label(thresholded_image)\n",
    "\n",
    "# start napari\n",
    "viewer = napari.Viewer()\n",
    "\n",
    "# add labels\n",
    "layer1 = viewer.add_labels(labels)\n",
    "layer1.visible = False\n",
    "\n",
    "# add labels with contrast limits\n",
    "layer2 = viewer.add_labels(labels)\n",
    "layer2.contrast_limits = [0, 1000]"
   ]
  },
  {
   "cell_type": "code",
   "execution_count": null,
   "id": "sporting-single",
   "metadata": {},
   "outputs": [],
   "source": []
  }
 ],
 "metadata": {
  "kernelspec": {
   "display_name": "Python 3",
   "language": "python",
   "name": "python3"
  },
  "language_info": {
   "codemirror_mode": {
    "name": "ipython",
    "version": 3
   },
   "file_extension": ".py",
   "mimetype": "text/x-python",
   "name": "python",
   "nbconvert_exporter": "python",
   "pygments_lexer": "ipython3",
   "version": "3.8.5"
  }
 },
 "nbformat": 4,
 "nbformat_minor": 5
}
